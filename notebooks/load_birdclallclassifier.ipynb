{
 "cells": [
  {
   "cell_type": "code",
   "execution_count": null,
   "id": "148505fc",
   "metadata": {},
   "outputs": [],
   "source": [
    "import tensorflow as tf\n",
    "from nightingale.model.bird_call_classifier import BirdCallClassifier\n",
    "from nightingale.data_pipeline.wav_loader import load_wav_16k_mono"
   ]
  },
  {
   "cell_type": "code",
   "execution_count": null,
   "id": "594d6080",
   "metadata": {},
   "outputs": [],
   "source": [
    "wav1 = load_wav_16k_mono(\"../data/birdclef-2024/train_audio_16/cohcuc1/XC19645.wav\")\n",
    "wav2 = load_wav_16k_mono(\"../data/birdclef-2024/train_audio_16/integr/XC810654.wav\")\n",
    "wav3 = load_wav_16k_mono(\"../data/birdclef-2024/train_audio_16/tilwar1/XC191454.wav\")"
   ]
  },
  {
   "cell_type": "code",
   "execution_count": null,
   "id": "0855a68f",
   "metadata": {},
   "outputs": [],
   "source": [
    "model = BirdCallClassifier()"
   ]
  },
  {
   "cell_type": "code",
   "execution_count": null,
   "id": "047543cf",
   "metadata": {},
   "outputs": [],
   "source": [
    "print(model.predict(wav1))\n",
    "print(model.predict(wav2))\n",
    "print(model.predict(wav3))"
   ]
  }
 ],
 "metadata": {
  "kernelspec": {
   "display_name": "Python 3",
   "language": "python",
   "name": "python3"
  },
  "language_info": {
   "codemirror_mode": {
    "name": "ipython",
    "version": 3
   },
   "file_extension": ".py",
   "mimetype": "text/x-python",
   "name": "python",
   "nbconvert_exporter": "python",
   "pygments_lexer": "ipython3",
   "version": "3.11.12"
  }
 },
 "nbformat": 4,
 "nbformat_minor": 5
}
