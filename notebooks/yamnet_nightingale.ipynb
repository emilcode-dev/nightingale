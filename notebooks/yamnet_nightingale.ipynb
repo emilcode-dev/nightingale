{
 "cells": [
  {
   "cell_type": "markdown",
   "id": "0",
   "metadata": {},
   "source": [
    "### Import packages"
   ]
  },
  {
   "cell_type": "code",
   "execution_count": null,
   "id": "1",
   "metadata": {},
   "outputs": [],
   "source": [
    "import pandas as pd\n",
    "import tensorflow as tf\n",
    "import tensorflow_hub as hub\n",
    "import numpy as np\n",
    "import csv\n",
    "import matplotlib.pyplot as plt\n",
    "import seaborn as sns\n",
    "from pydub import AudioSegment\n",
    "import os"
   ]
  },
  {
   "cell_type": "markdown",
   "id": "2",
   "metadata": {},
   "source": [
    "### Ingest data"
   ]
  },
  {
   "cell_type": "code",
   "execution_count": null,
   "id": "3",
   "metadata": {},
   "outputs": [],
   "source": [
    "def convert_and_resample(input_file: str, output_file: str):\n",
    "    \"\"\"\n",
    "    Converts an audio file to WAV format and resamples it to 16 kHz.\n",
    "\n",
    "    Args:\n",
    "        input_file (str): Path to the input audio file (e.g., .ogg, .mp3).\n",
    "        output_file (str): Path to save the converted and resampled .wav file.\n",
    "    \"\"\"\n",
    "    try:\n",
    "        # Load the input audio file\n",
    "        audio = AudioSegment.from_file(input_file)\n",
    "        # Resample to 16 kHz\n",
    "        audio_16k = audio.set_frame_rate(16000)\n",
    "        # Export as .wav\n",
    "        audio_16k.export(output_file, format=\"wav\")\n",
    "        print(f\"Conversion and resampling successful: {output_file}\")\n",
    "    except Exception as e:\n",
    "        print(f\"Error during conversion and resampling: {e}\")"
   ]
  },
  {
   "cell_type": "code",
   "execution_count": null,
   "id": "4",
   "metadata": {},
   "outputs": [],
   "source": [
    "def batch_convert_and_resample(input_root, output_root, convert_and_resample, max_folders=None):\n",
    "    \"\"\"\n",
    "    Walk through input_root, find all .ogg files, and convert them to .wav\n",
    "    in output_root with the same folder structure.\n",
    "    \n",
    "    Parameters:\n",
    "        input_root (str): Path to the root folder containing .ogg files.\n",
    "        output_root (str): Path where converted .wav files will be saved.\n",
    "        convert_and_resample (func): Function that takes (in_path, out_path).\n",
    "        max_folders (int, optional): If set, only process the first N subfolders.\n",
    "    \"\"\"\n",
    "    # List top-level subfolders in input_root\n",
    "    subfolders = sorted(\n",
    "        [os.path.join(input_root, d) for d in os.listdir(input_root) \n",
    "         if os.path.isdir(os.path.join(input_root, d))]\n",
    "    )\n",
    "\n",
    "    # Limit to first N folders if requested\n",
    "    if max_folders is not None:\n",
    "        subfolders = subfolders[:max_folders]\n",
    "\n",
    "    for folder in subfolders:\n",
    "        for dirpath, _, filenames in os.walk(folder):\n",
    "            for filename in filenames:\n",
    "                if filename.lower().endswith(\".ogg\"):\n",
    "                    in_path = os.path.join(dirpath, filename)\n",
    "                    \n",
    "                    # Build matching output path\n",
    "                    rel_path = os.path.relpath(in_path, input_root)\n",
    "                    rel_path_no_ext = os.path.splitext(rel_path)[0] + \".wav\"\n",
    "                    out_path = os.path.join(output_root, rel_path_no_ext)\n",
    "\n",
    "                    # Ensure output directory exists\n",
    "                    os.makedirs(os.path.dirname(out_path), exist_ok=True)\n",
    "\n",
    "                    # Convert\n",
    "                    convert_and_resample(in_path, out_path)\n",
    "                    print(f\"Converted: {in_path} -> {out_path}\")"
   ]
  },
  {
   "cell_type": "code",
   "execution_count": null,
   "id": "5",
   "metadata": {},
   "outputs": [],
   "source": [
    "input_root = \"../data/birdclef-2024/train_audio\"\n",
    "output_root = \"../data/wav\"\n",
    "\n",
    "batch_convert_and_resample(input_root, output_root, convert_and_resample)\n"
   ]
  },
  {
   "cell_type": "code",
   "execution_count": null,
   "id": "6",
   "metadata": {},
   "outputs": [],
   "source": [
    "# Read train meta data\n",
    "train_metadata_path = \"../data/birdclef-2024/train_metadata.csv\"\n",
    "train_df = pd.read_csv(train_metadata_path)\n"
   ]
  },
  {
   "cell_type": "markdown",
   "id": "7",
   "metadata": {},
   "source": [
    "### EDA"
   ]
  },
  {
   "cell_type": "code",
   "execution_count": null,
   "id": "8",
   "metadata": {},
   "outputs": [],
   "source": [
    "train_df.head()"
   ]
  },
  {
   "cell_type": "code",
   "execution_count": null,
   "id": "9",
   "metadata": {},
   "outputs": [],
   "source": [
    "# train_df[\"rating\"].info()\n",
    "train_df.describe()"
   ]
  },
  {
   "cell_type": "markdown",
   "id": "10",
   "metadata": {},
   "source": [
    "### Modelling"
   ]
  },
  {
   "cell_type": "code",
   "execution_count": null,
   "id": "11",
   "metadata": {},
   "outputs": [],
   "source": [
    "# Load the model.\n",
    "model = hub.load('https://tfhub.dev/google/yamnet/1')"
   ]
  },
  {
   "cell_type": "markdown",
   "id": "12",
   "metadata": {},
   "source": [
    "#### Model inference / Create Embeddings"
   ]
  },
  {
   "cell_type": "code",
   "execution_count": null,
   "id": "13",
   "metadata": {},
   "outputs": [],
   "source": []
  },
  {
   "cell_type": "markdown",
   "id": "14",
   "metadata": {},
   "source": [
    "#### Model classification layer"
   ]
  },
  {
   "cell_type": "code",
   "execution_count": null,
   "id": "15",
   "metadata": {},
   "outputs": [],
   "source": [
    "model = tf.keras.models.Sequential([\n",
    "    tf.keras.layers.Input(shape=(1024,)),\n",
    "    tf.keras.layers.Dense(256, activation='relu'),\n",
    "    tf.keras.layers.Dense(10, activation='softmax')  # z. B. 10 Klassen\n",
    "])"
   ]
  }
 ],
 "metadata": {
  "kernelspec": {
   "display_name": "Python 3",
   "language": "python",
   "name": "python3"
  },
  "language_info": {
   "codemirror_mode": {
    "name": "ipython",
    "version": 3
   },
   "file_extension": ".py",
   "mimetype": "text/x-python",
   "name": "python",
   "nbconvert_exporter": "python",
   "pygments_lexer": "ipython3",
   "version": "3.11.13"
  }
 },
 "nbformat": 4,
 "nbformat_minor": 5
}
