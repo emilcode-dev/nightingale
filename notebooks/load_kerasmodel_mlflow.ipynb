{
 "cells": [
  {
   "cell_type": "code",
   "execution_count": null,
   "id": "18a8b109",
   "metadata": {},
   "outputs": [],
   "source": [
    "import mlflow\n",
    "import mlflow.keras\n",
    "from mlflow.models import infer_signature\n",
    "import numpy as np\n",
    "from nightingale.model.classifier_head import ClassifierHead\n",
    "\n",
    "# mlflow.tensorflow.autolog(\n",
    "#     log_models=True,\n",
    "#     log_input_examples=True,\n",
    "#     log_model_signatures=True,\n",
    "#     log_every_n_steps=1,\n",
    "# )\n",
    "\n",
    "model = ClassifierHead()\n",
    "model.compile(optimizer=\"adam\", loss=\"sparse_categorical_crossentropy\")\n",
    "\n",
    "input_data = np.random.random((128, 1024))\n",
    "labels = np.random.randint(0, 2, size=(128,))\n",
    "\n",
    "model.fit(\n",
    "    x=input_data,\n",
    "    y=labels,\n",
    "    epochs=1\n",
    ")\n",
    "\n",
    "# Get predictions\n",
    "sample_output = model.predict(input_data)\n",
    "print(model.summary())\n",
    "\n",
    "# Infer signature from data\n",
    "signature = infer_signature(input_data, sample_output)\n",
    "\n",
    "with mlflow.start_run() as run:\n",
    "   model_info = mlflow.keras.log_model(model, name = \"model\", signature=signature, pip_requirements=['keras==3.10.0'])\n",
    "\n"
   ]
  },
  {
   "cell_type": "code",
   "execution_count": null,
   "id": "cd22b99e",
   "metadata": {},
   "outputs": [],
   "source": [
    "loaded_model = mlflow.keras.load_model(model_info.model_uri)\n",
    "print(\"Model uri: \", model_info.model_uri)\n",
    "print(loaded_model.summary())"
   ]
  },
  {
   "cell_type": "code",
   "execution_count": null,
   "id": "d749fc84",
   "metadata": {},
   "outputs": [],
   "source": [
    "# Test the loaded model produces the same output for the same input as the model.\n",
    "test_input = np.random.random((128, 1024))\n",
    "np.testing.assert_allclose(\n",
    "    model.predict(test_input),\n",
    "    loaded_model.predict(test_input),\n",
    ")"
   ]
  }
 ],
 "metadata": {
  "kernelspec": {
   "display_name": "Python 3",
   "language": "python",
   "name": "python3"
  },
  "language_info": {
   "codemirror_mode": {
    "name": "ipython",
    "version": 3
   },
   "file_extension": ".py",
   "mimetype": "text/x-python",
   "name": "python",
   "nbconvert_exporter": "python",
   "pygments_lexer": "ipython3",
   "version": "3.11.12"
  }
 },
 "nbformat": 4,
 "nbformat_minor": 5
}
