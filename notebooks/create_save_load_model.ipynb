{
 "cells": [
  {
   "cell_type": "code",
   "execution_count": null,
   "id": "e5cebaac",
   "metadata": {},
   "outputs": [],
   "source": [
    "import numpy as np\n",
    "import tensorflow as tf\n",
    "from nightingale.model.classifier_head import ClassifierHead\n",
    "print(\"TensorFlow version:\", tf.__version__)\n",
    "print(\"tf.keras version:\", tf.keras.__version__)\n"
   ]
  },
  {
   "cell_type": "code",
   "execution_count": null,
   "id": "22b1e3d8",
   "metadata": {},
   "outputs": [],
   "source": [
    "head = ClassifierHead()\n",
    "head.compile(optimizer=\"adam\", loss=\"mean_squared_error\", metrics=[\"accuracy\"])\n",
    "\n",
    "train_input = np.random.random((128, 1024))\n",
    "train_target = np.random.random((128, 3))\n",
    "\n",
    "head.fit(train_input, train_target)\n",
    "\n",
    "head.save(\"bird_classifier_head.keras\")\n",
    "reconstructed_head = tf.keras.models.load_model(\"bird_classifier_head.keras\")\n",
    "\n",
    "np.testing.assert_allclose(\n",
    "    head.predict(train_input), reconstructed_head.predict(train_input)\n",
    ")"
   ]
  }
 ],
 "metadata": {
  "kernelspec": {
   "display_name": "Python 3",
   "language": "python",
   "name": "python3"
  },
  "language_info": {
   "codemirror_mode": {
    "name": "ipython",
    "version": 3
   },
   "file_extension": ".py",
   "mimetype": "text/x-python",
   "name": "python",
   "nbconvert_exporter": "python",
   "pygments_lexer": "ipython3",
   "version": "3.11.12"
  }
 },
 "nbformat": 4,
 "nbformat_minor": 5
}
