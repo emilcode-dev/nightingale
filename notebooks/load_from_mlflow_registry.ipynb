{
 "cells": [
  {
   "cell_type": "code",
   "execution_count": null,
   "id": "e4a78202",
   "metadata": {},
   "outputs": [],
   "source": [
    "import mlflow\n",
    "from mlflow import MlflowClient\n",
    "from nightingale.model.classifier_head import ClassifierHead\n",
    "\n",
    "TRACKING_URI_LOCAL = \"http://host.docker.internal:5757\"\n",
    "\n",
    "client = MlflowClient(tracking_uri=TRACKING_URI_LOCAL)\n",
    "\n",
    "mlflow.set_tracking_uri(TRACKING_URI_LOCAL)\n",
    "# mlflow.set_registry_uri(TRACKING_URI_LOCAL)\n",
    "\n",
    "# Set model version alias\n",
    "model_name = 'Reg-Bird-Call-Classifier-Head'\n",
    "model_version_alias = \"challenger\"\n",
    "# client.set_registered_model_alias(\n",
    "#     model_name, model_version_alias, \"1\"\n",
    "# )  # Duplicate of step in UI\n",
    "\n",
    "# Get information about the model\n",
    "model_info = client.get_model_version_by_alias(model_name, model_version_alias)\n",
    "model_tags = model_info.tags\n",
    "print(model_tags)\n",
    "print(model_info.name)\n",
    "{model_name}\n",
    "\n",
    "print(\"Tracking URI:\", mlflow.get_tracking_uri())\n",
    "print(\"Registry URI:\", mlflow.get_registry_uri())\n",
    "print(\"Registered models:\", [rm.name for rm in client.search_registered_models()])\n",
    "\n",
    "# Get the model version using a model URI\n",
    "model_uri = f\"models:/{model_name}@{model_version_alias}\"\n",
    "loaded_model = mlflow.keras.load_model(model_uri)\n",
    "\n"
   ]
  },
  {
   "cell_type": "code",
   "execution_count": null,
   "id": "09b14e46",
   "metadata": {},
   "outputs": [],
   "source": [
    "print(\"Tracking URI:\", mlflow.get_tracking_uri())\n",
    "print(\"Registry URI:\", mlflow.get_registry_uri())\n",
    "print(\"Registered models:\", [rm.name for rm in client.search_registered_models()])"
   ]
  },
  {
   "cell_type": "code",
   "execution_count": null,
   "id": "d70af7d7",
   "metadata": {},
   "outputs": [],
   "source": [
    "model_info = client.get_model_version_by_alias(model_name, model_version_alias)\n"
   ]
  }
 ],
 "metadata": {
  "kernelspec": {
   "display_name": "Python 3",
   "language": "python",
   "name": "python3"
  },
  "language_info": {
   "codemirror_mode": {
    "name": "ipython",
    "version": 3
   },
   "file_extension": ".py",
   "mimetype": "text/x-python",
   "name": "python",
   "nbconvert_exporter": "python",
   "pygments_lexer": "ipython3",
   "version": "3.11.12"
  }
 },
 "nbformat": 4,
 "nbformat_minor": 5
}
